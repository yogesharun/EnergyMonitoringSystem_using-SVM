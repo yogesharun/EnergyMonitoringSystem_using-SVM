{
 "cells": [
  {
   "cell_type": "markdown",
   "id": "4f016b3a",
   "metadata": {},
   "source": [
    "## EnergyMonitoringSystem"
   ]
  },
  {
   "cell_type": "markdown",
   "id": "e518a5d4",
   "metadata": {},
   "source": [
    "### Importing the Libraries"
   ]
  },
  {
   "cell_type": "code",
   "execution_count": 3,
   "id": "dd2b6fd0",
   "metadata": {},
   "outputs": [],
   "source": [
    "import pandas as pd\n",
    "from sklearn.model_selection import train_test_split\n",
    "from sklearn.svm import SVC"
   ]
  },
  {
   "cell_type": "markdown",
   "id": "c734aab5",
   "metadata": {},
   "source": [
    "### Importing the dataset"
   ]
  },
  {
   "cell_type": "markdown",
   "id": "1ccc0a84",
   "metadata": {},
   "source": [
    "names = ['Voltage','Current','Power','Class']\n",
    "dataset = pd.read_csv(\"Energy Meter.csv\",names =names)\n",
    "dataset.head()"
   ]
  },
  {
   "cell_type": "markdown",
   "id": "215f8002",
   "metadata": {},
   "source": [
    "### Independent and dependent variables"
   ]
  },
  {
   "cell_type": "code",
   "execution_count": 11,
   "id": "d9b0441e",
   "metadata": {},
   "outputs": [
    {
     "data": {
      "text/html": [
       "<div>\n",
       "<style scoped>\n",
       "    .dataframe tbody tr th:only-of-type {\n",
       "        vertical-align: middle;\n",
       "    }\n",
       "\n",
       "    .dataframe tbody tr th {\n",
       "        vertical-align: top;\n",
       "    }\n",
       "\n",
       "    .dataframe thead th {\n",
       "        text-align: right;\n",
       "    }\n",
       "</style>\n",
       "<table border=\"1\" class=\"dataframe\">\n",
       "  <thead>\n",
       "    <tr style=\"text-align: right;\">\n",
       "      <th></th>\n",
       "      <th>Voltage</th>\n",
       "      <th>Current</th>\n",
       "      <th>Power</th>\n",
       "    </tr>\n",
       "  </thead>\n",
       "  <tbody>\n",
       "    <tr>\n",
       "      <th>0</th>\n",
       "      <td>0.0</td>\n",
       "      <td>0.0</td>\n",
       "      <td>0.0</td>\n",
       "    </tr>\n",
       "    <tr>\n",
       "      <th>1</th>\n",
       "      <td>0.0</td>\n",
       "      <td>0.0</td>\n",
       "      <td>0.0</td>\n",
       "    </tr>\n",
       "    <tr>\n",
       "      <th>2</th>\n",
       "      <td>0.0</td>\n",
       "      <td>0.0</td>\n",
       "      <td>0.0</td>\n",
       "    </tr>\n",
       "    <tr>\n",
       "      <th>3</th>\n",
       "      <td>0.0</td>\n",
       "      <td>0.0</td>\n",
       "      <td>0.0</td>\n",
       "    </tr>\n",
       "    <tr>\n",
       "      <th>4</th>\n",
       "      <td>0.0</td>\n",
       "      <td>0.0</td>\n",
       "      <td>0.0</td>\n",
       "    </tr>\n",
       "  </tbody>\n",
       "</table>\n",
       "</div>"
      ],
      "text/plain": [
       "   Voltage  Current  Power\n",
       "0      0.0      0.0    0.0\n",
       "1      0.0      0.0    0.0\n",
       "2      0.0      0.0    0.0\n",
       "3      0.0      0.0    0.0\n",
       "4      0.0      0.0    0.0"
      ]
     },
     "execution_count": 11,
     "metadata": {},
     "output_type": "execute_result"
    }
   ],
   "source": [
    "x = dataset.iloc[:,:3]\n",
    "y = dataset.iloc[:,3]\n",
    "x.head()"
   ]
  },
  {
   "cell_type": "code",
   "execution_count": 12,
   "id": "415b24c5",
   "metadata": {},
   "outputs": [
    {
     "data": {
      "text/plain": [
       "0    NoLoad\n",
       "1    NoLoad\n",
       "2    NoLoad\n",
       "3    NoLoad\n",
       "4    NoLoad\n",
       "Name: Class, dtype: object"
      ]
     },
     "execution_count": 12,
     "metadata": {},
     "output_type": "execute_result"
    }
   ],
   "source": [
    "y.head()"
   ]
  },
  {
   "cell_type": "markdown",
   "id": "386a09c9",
   "metadata": {},
   "source": [
    "### Training and testing data "
   ]
  },
  {
   "cell_type": "code",
   "execution_count": 25,
   "id": "cb16c1e3",
   "metadata": {},
   "outputs": [],
   "source": [
    "x_train,x_test,y_train,y_test = train_test_split(x,y,test_size=0.5,random_state=1)"
   ]
  },
  {
   "cell_type": "code",
   "execution_count": 26,
   "id": "1ed914e5",
   "metadata": {},
   "outputs": [
    {
     "data": {
      "text/html": [
       "<div>\n",
       "<style scoped>\n",
       "    .dataframe tbody tr th:only-of-type {\n",
       "        vertical-align: middle;\n",
       "    }\n",
       "\n",
       "    .dataframe tbody tr th {\n",
       "        vertical-align: top;\n",
       "    }\n",
       "\n",
       "    .dataframe thead th {\n",
       "        text-align: right;\n",
       "    }\n",
       "</style>\n",
       "<table border=\"1\" class=\"dataframe\">\n",
       "  <thead>\n",
       "    <tr style=\"text-align: right;\">\n",
       "      <th></th>\n",
       "      <th>Voltage</th>\n",
       "      <th>Current</th>\n",
       "      <th>Power</th>\n",
       "    </tr>\n",
       "  </thead>\n",
       "  <tbody>\n",
       "    <tr>\n",
       "      <th>365</th>\n",
       "      <td>212.7315</td>\n",
       "      <td>0.847530</td>\n",
       "      <td>180.296328</td>\n",
       "    </tr>\n",
       "    <tr>\n",
       "      <th>99</th>\n",
       "      <td>0.0000</td>\n",
       "      <td>0.000000</td>\n",
       "      <td>0.000000</td>\n",
       "    </tr>\n",
       "    <tr>\n",
       "      <th>348</th>\n",
       "      <td>214.6480</td>\n",
       "      <td>0.844391</td>\n",
       "      <td>181.246839</td>\n",
       "    </tr>\n",
       "    <tr>\n",
       "      <th>329</th>\n",
       "      <td>217.3311</td>\n",
       "      <td>0.841252</td>\n",
       "      <td>182.830223</td>\n",
       "    </tr>\n",
       "    <tr>\n",
       "      <th>320</th>\n",
       "      <td>216.1812</td>\n",
       "      <td>0.841252</td>\n",
       "      <td>181.862867</td>\n",
       "    </tr>\n",
       "  </tbody>\n",
       "</table>\n",
       "</div>"
      ],
      "text/plain": [
       "      Voltage   Current       Power\n",
       "365  212.7315  0.847530  180.296328\n",
       "99     0.0000  0.000000    0.000000\n",
       "348  214.6480  0.844391  181.246839\n",
       "329  217.3311  0.841252  182.830223\n",
       "320  216.1812  0.841252  181.862867"
      ]
     },
     "execution_count": 26,
     "metadata": {},
     "output_type": "execute_result"
    }
   ],
   "source": [
    "x_train.head()"
   ]
  },
  {
   "cell_type": "code",
   "execution_count": 27,
   "id": "9c0fbd1b",
   "metadata": {},
   "outputs": [
    {
     "name": "stdout",
     "output_type": "stream",
     "text": [
      "x_train shape = (200, 3)\n",
      "x_test shape = (200, 3)\n",
      "y_train shape = (200,)\n",
      "y_test shape = (200,)\n"
     ]
    }
   ],
   "source": [
    "print(\"x_train shape =\",x_train.shape)\n",
    "print(\"x_test shape =\",x_test.shape)\n",
    "print(\"y_train shape =\",y_train.shape)\n",
    "print(\"y_test shape =\",y_test.shape)"
   ]
  },
  {
   "cell_type": "markdown",
   "id": "cbadae9f",
   "metadata": {},
   "source": [
    "### Fitting Model"
   ]
  },
  {
   "cell_type": "code",
   "execution_count": 28,
   "id": "f3c7b60b",
   "metadata": {},
   "outputs": [
    {
     "data": {
      "text/plain": [
       "SVC(gamma='auto')"
      ]
     },
     "execution_count": 28,
     "metadata": {},
     "output_type": "execute_result"
    }
   ],
   "source": [
    "model = SVC(gamma = 'auto')\n",
    "model.fit(x_train,y_train)"
   ]
  },
  {
   "cell_type": "code",
   "execution_count": 29,
   "id": "3721e8bd",
   "metadata": {},
   "outputs": [
    {
     "name": "stdout",
     "output_type": "stream",
     "text": [
      "result =  0.985\n"
     ]
    }
   ],
   "source": [
    "result = model.score(x_test,y_test)\n",
    "print(\"result = \",result)"
   ]
  },
  {
   "cell_type": "markdown",
   "id": "1ab06ca1",
   "metadata": {},
   "source": [
    "### Prediction For new Values"
   ]
  },
  {
   "cell_type": "code",
   "execution_count": 31,
   "id": "96b34386",
   "metadata": {},
   "outputs": [
    {
     "name": "stdout",
     "output_type": "stream",
     "text": [
      "['Risk']\n"
     ]
    }
   ],
   "source": [
    "value = [[212.45,0.8634,180.21443]]\n",
    "prediction = model.predict(value)\n",
    "print(prediction)"
   ]
  },
  {
   "cell_type": "code",
   "execution_count": null,
   "id": "d3e84204",
   "metadata": {},
   "outputs": [],
   "source": []
  }
 ],
 "metadata": {
  "kernelspec": {
   "display_name": "Python 3",
   "language": "python",
   "name": "python3"
  },
  "language_info": {
   "codemirror_mode": {
    "name": "ipython",
    "version": 3
   },
   "file_extension": ".py",
   "mimetype": "text/x-python",
   "name": "python",
   "nbconvert_exporter": "python",
   "pygments_lexer": "ipython3",
   "version": "3.8.8"
  }
 },
 "nbformat": 4,
 "nbformat_minor": 5
}
